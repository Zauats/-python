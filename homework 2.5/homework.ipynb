{
 "cells": [
  {
   "cell_type": "code",
   "execution_count": 1,
   "metadata": {},
   "outputs": [
    {
     "name": "stdout",
     "output_type": "stream",
     "text": [
      "count_top3([1880, 2000]) == ['Zyier', 'Nadra', 'Nahje']\n"
     ]
    }
   ],
   "source": [
    "import pandas as pd\n",
    "\n",
    "def count_top3(years):\n",
    "    file_link = 'F:\\\\untitled\\\\years\\\\'\n",
    "\n",
    "    for num, year in enumerate(years):\n",
    "        if num == 0:\n",
    "            DataFrame_names = pd.read_csv(file_link + 'yob' + str(year) + '.txt', \n",
    "                                          names=['names', 'sex', 'quantity'])\n",
    "        else:\n",
    "            DataFrame_names = pd.concat([DataFrame_names, pd.read_csv(file_link + 'yob' + str(year) + '.txt',\n",
    "                                                                      header=None, names=['names', 'sex', 'quantity'])])\n",
    "            \n",
    "    print(f'count_top3({years}) == {DataFrame_names.groupby([\"names\"]).sum().sort_values(\"quantity\").head(3)[\"names\"].tolist()}')\n",
    "\n",
    "count_top3([1880, 2000])\n",
    "\n"
   ]
  },
  {
   "cell_type": "code",
   "execution_count": 2,
   "metadata": {},
   "outputs": [
    {
     "data": {
      "text/plain": [
       "{'F': [450283, 3503700, 3778079], 'M': [450283, 3503700, 3778079]}"
      ]
     },
     "execution_count": 2,
     "metadata": {},
     "output_type": "execute_result"
    }
   ],
   "source": [
    "import pandas as pd\n",
    "\n",
    "def count_dynamics(years):\n",
    "    file_link = 'F:\\\\untitled\\\\years\\\\'\n",
    "    dynamics_dict = {'F': [],\n",
    "                     'M': []}\n",
    "    for year in years:\n",
    "        names = pd.read_csv(file_link + 'yob' + str(year) + '.txt', header=None,\n",
    "                                          names=['names', 'sex', 'quantity'])\n",
    "        dynamics_dict['F'].append(sum(names['quantity'].tolist()))\n",
    "        dynamics_dict['M'].append(sum(names['quantity'].tolist()))\n",
    "    # раскоментируйте для вывода, как в задании \n",
    "    # print(\"count_dynamics(\"+ str(years) +\") == {\")\n",
    "    # print('\\t' + \"'F': \" + str(dynamics_dict['F']) + ',')\n",
    "    # print('\\t' + \"'M': \" + str(dynamics_dict['M']))\n",
    "    # print('}')\n",
    "    \n",
    "    return dynamics_dict\n",
    "\n",
    "count_dynamics([1900, 1950, 2000])"
   ]
  },
  {
   "cell_type": "code",
   "execution_count": null,
   "metadata": {},
   "outputs": [],
   "source": []
  }
 ],
 "metadata": {
  "kernelspec": {
   "display_name": "Python 2",
   "language": "python",
   "name": "python2"
  },
  "language_info": {
   "codemirror_mode": {
    "name": "ipython",
    "version": 2
   },
   "file_extension": ".py",
   "mimetype": "text/x-python",
   "name": "python",
   "nbconvert_exporter": "python",
   "pygments_lexer": "ipython2",
   "version": "2.7.6"
  }
 },
 "nbformat": 4,
 "nbformat_minor": 0
}
