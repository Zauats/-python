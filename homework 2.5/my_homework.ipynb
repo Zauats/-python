{
 "cells": [
  {
   "cell_type": "code",
   "execution_count": null,
   "metadata": {
    "collapsed": true
   },
   "outputs": [],
   "source": [
    "import pandas as pd\n",
    "# что-бы не особо париться с путями, я этот файл поместил в папку с годами\n",
    "# задание 1\n",
    "def count_top3(years_list):\n",
    "    names_DF = pd.DataFrame({'name': [], 'quantity': []})\n",
    "    for year in years_list:\n",
    "        file_link = 'yob' + str(year) + '.txt' \n",
    "        # сдесь я создаю ссылку, которая у вас может отличаться\n",
    "        with open(file_link, encoding=\"UTF-8\") as f:\n",
    "            for name in f:\n",
    "                name = name.strip().split(',')\n",
    "                names_DF = pd.concat([names_DF, pd.DataFrame({'name':[name[0]],\n",
    "                                                              'quantity':[name[2]]})])\n",
    "    top_name_list = [['', 0], ['', 0], ['', 0]]\n",
    "    for quantity, name in zip(names_DF['quantity'], names_DF['name']):\n",
    "        if int(quantity) > top_name_list[0][1]:\n",
    "            top_name_list[0][0] = name\n",
    "            top_name_list[0][1] = int(quantity)\n",
    "        elif int(quantity) > top_name_list[1][1]:\n",
    "            top_name_list[1][0] = name\n",
    "            top_name_list[1][1] = int(quantity)\n",
    "        elif int(quantity) > top_name_list[2][1]:\n",
    "            top_name_list[2][0] = name\n",
    "            top_name_list[2][1] = int(quantity)\n",
    "\n",
    "    top_name = pd.DataFrame({'name': [], 'quantity':[]})\n",
    "    for name in top_name_list:\n",
    "        name = pd.DataFrame({'name': [name[0]], 'quantity':[name[1]]})\n",
    "        top_name = pd.concat([top_name, name])\n",
    "    print(top_name)\n",
    "\n",
    "# задание 2\n",
    "def count_dynamics(years_list):\n",
    "    years_dataFrame_list = pd.DataFrame({'years': [], 'M':[], \"F\":[]})\n",
    "    for year in years_list:\n",
    "        file_link = 'yob' + str(year) + '.txt'\n",
    "        # сдесь я создаю ссылку, которая у вас может отличаться\n",
    "        gender_dict = {'years':[year], 'M': [0], 'F': [0]}\n",
    "        with open(file_link, encoding=\"UTF-8\") as f:\n",
    "            for name in f:\n",
    "                name = name.strip().split(',')\n",
    "                if name[1] == 'M':\n",
    "                    gender_dict['M'][0] += int(name[2])\n",
    "                elif name[1] == 'F':\n",
    "                    gender_dict['F'][0] += int(name[2])\n",
    "        years_dataFrame_list = pd.concat([years_dataFrame_list, pd.DataFrame(gender_dict)])\n",
    "    print(years_dataFrame_list)\n",
    "\n",
    "\n"
   ]
  }
 ],
 "metadata": {
  "kernelspec": {
   "display_name": "Python 2",
   "language": "python",
   "name": "python2"
  },
  "language_info": {
   "codemirror_mode": {
    "name": "ipython",
    "version": 2
   },
   "file_extension": ".py",
   "mimetype": "text/x-python",
   "name": "python",
   "nbconvert_exporter": "python",
   "pygments_lexer": "ipython2",
   "version": "2.7.6"
  }
 },
 "nbformat": 4,
 "nbformat_minor": 0
}
