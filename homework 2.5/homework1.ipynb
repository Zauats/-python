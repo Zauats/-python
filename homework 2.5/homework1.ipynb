{
 "cells": [
  {
   "cell_type": "code",
   "execution_count": 4,
   "metadata": {},
   "outputs": [
    {
     "name": "stdout",
     "output_type": "stream",
     "text": [
      "задание 1\n"
     ]
    },
    {
     "name": "stdout",
     "output_type": "stream",
     "text": [
      "      name  quantity\n0     Mary   16706.0\n0     John    9829.0\n0  William    8579.0\n\n\nзадание 2\n    years          M          F\n0  1903.0   119233.0   261971.0\n0  1950.0  1790549.0  1713151.0\n0  2000.0  1962969.0  1815110.0\n"
     ]
    }
   ],
   "source": [
    "import pandas as pd\n",
    "\n",
    "# задание 1 т.к в личном кабинете все заблокировалось, напишу здесь. Я понял, как все запустить,\n",
    "# теперь все работает\n",
    "def count_top3(years_list, link):\n",
    "    names_DF = pd.DataFrame({'name': [], 'quantity': []})\n",
    "    for year in years_list:\n",
    "        file_link = link + 'yob' + str(year) + '.txt' \n",
    "        with open(file_link, encoding=\"UTF-8\") as f:\n",
    "            for name in f:\n",
    "                name = name.strip().split(',')\n",
    "                names_DF = pd.concat([names_DF, pd.DataFrame({'name':[name[0]],\n",
    "                                                              'quantity':[name[2]]})])\n",
    "    top_name_list = [['', 0], ['', 0], ['', 0]]\n",
    "    for quantity, name in zip(names_DF['quantity'], names_DF['name']):\n",
    "        if int(quantity) > top_name_list[0][1]:\n",
    "            top_name_list[0][0] = name\n",
    "            top_name_list[0][1] = int(quantity)\n",
    "        elif int(quantity) > top_name_list[1][1]:\n",
    "            top_name_list[1][0] = name\n",
    "            top_name_list[1][1] = int(quantity)\n",
    "        elif int(quantity) > top_name_list[2][1]:\n",
    "            top_name_list[2][0] = name\n",
    "            top_name_list[2][1] = int(quantity)\n",
    "\n",
    "    top_name = pd.DataFrame({'name': [], 'quantity':[]})\n",
    "    for name in top_name_list:\n",
    "        name = pd.DataFrame({'name': [name[0]], 'quantity':[name[1]]})\n",
    "        top_name = pd.concat([top_name, name])\n",
    "    print(top_name)\n",
    "\n",
    "# задание 2\n",
    "def count_dynamics(years_list, link):\n",
    "    years_dataFrame_list = pd.DataFrame({'years': [], 'M':[], \"F\":[]})\n",
    "    for year in years_list:\n",
    "        file_link = link + 'yob' + str(year) + '.txt'\n",
    "        gender_dict = {'years':[year], 'M': [0], 'F': [0]}\n",
    "        with open(file_link, encoding=\"UTF-8\") as f:\n",
    "            for name in f:\n",
    "                name = name.strip().split(',')\n",
    "                if name[1] == 'M':\n",
    "                    gender_dict['M'][0] += int(name[2])\n",
    "                elif name[1] == 'F':\n",
    "                    gender_dict['F'][0] += int(name[2])\n",
    "        years_dataFrame_list = pd.concat([years_dataFrame_list, pd.DataFrame(gender_dict)])\n",
    "    print(years_dataFrame_list)\n",
    "\n",
    "if __name__ == '__main__':\n",
    "    link = 'F:\\\\untitled\\\\years\\\\'  # эта ссылка, которая у вас может отличаться\n",
    "    print('задание 1')\n",
    "    count_top3([1900], link)\n",
    "    print('\\n\\nзадание 2')\n",
    "    count_dynamics([1903, 1950, 2000], link)"
   ]
  },
  {
   "cell_type": "code",
   "execution_count": null,
   "metadata": {},
   "outputs": [],
   "source": []
  }
 ],
 "metadata": {
  "kernelspec": {
   "display_name": "Python 2",
   "language": "python",
   "name": "python2"
  },
  "language_info": {
   "codemirror_mode": {
    "name": "ipython",
    "version": 2
   },
   "file_extension": ".py",
   "mimetype": "text/x-python",
   "name": "python",
   "nbconvert_exporter": "python",
   "pygments_lexer": "ipython2",
   "version": "2.7.6"
  }
 },
 "nbformat": 4,
 "nbformat_minor": 0
}
