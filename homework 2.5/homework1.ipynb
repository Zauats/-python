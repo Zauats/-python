{
 "cells": [
  {
   "cell_type": "code",
   "execution_count": 23,
   "metadata": {},
   "outputs": [
    {
     "ename": "FileNotFoundError",
     "evalue": "[Errno 2] No such file or directory: 'years\\\\yob1900.txt'",
     "traceback": [
      "\u001b[1;31m---------------------------------------------------------------------------\u001b[0m",
      "\u001b[1;31mFileNotFoundError\u001b[0m                         Traceback (most recent call last)",
      "\u001b[1;32m<ipython-input-23-a6e7b7e31758>\u001b[0m in \u001b[0;36m<module>\u001b[1;34m\u001b[0m\n\u001b[0;32m     47\u001b[0m \u001b[1;32mif\u001b[0m \u001b[0m__name__\u001b[0m \u001b[1;33m==\u001b[0m \u001b[1;34m'__main__'\u001b[0m\u001b[1;33m:\u001b[0m\u001b[1;33m\u001b[0m\u001b[1;33m\u001b[0m\u001b[0m\n\u001b[0;32m     48\u001b[0m     \u001b[0mlink\u001b[0m \u001b[1;33m=\u001b[0m \u001b[1;34m'years\\\\'\u001b[0m  \u001b[1;31m# эта ссылка, которая у вас может отличаться\u001b[0m\u001b[1;33m\u001b[0m\u001b[1;33m\u001b[0m\u001b[0m\n\u001b[1;32m---> 49\u001b[1;33m     \u001b[0mcount_top3\u001b[0m\u001b[1;33m(\u001b[0m\u001b[1;33m[\u001b[0m\u001b[1;36m1900\u001b[0m\u001b[1;33m]\u001b[0m\u001b[1;33m,\u001b[0m \u001b[0mlink\u001b[0m\u001b[1;33m)\u001b[0m\u001b[1;33m\u001b[0m\u001b[1;33m\u001b[0m\u001b[0m\n\u001b[0m\u001b[0;32m     50\u001b[0m     \u001b[0mcount_dynamics\u001b[0m\u001b[1;33m(\u001b[0m\u001b[1;33m[\u001b[0m\u001b[1;36m1903\u001b[0m\u001b[1;33m,\u001b[0m \u001b[1;36m1950\u001b[0m\u001b[1;33m,\u001b[0m \u001b[1;36m2000\u001b[0m\u001b[1;33m]\u001b[0m\u001b[1;33m,\u001b[0m \u001b[0mlink\u001b[0m\u001b[1;33m)\u001b[0m\u001b[1;33m\u001b[0m\u001b[1;33m\u001b[0m\u001b[0m\n\u001b[0;32m     51\u001b[0m \u001b[1;33m\u001b[0m\u001b[0m\n",
      "\u001b[1;32m<ipython-input-23-a6e7b7e31758>\u001b[0m in \u001b[0;36mcount_top3\u001b[1;34m(years_list, link)\u001b[0m\n\u001b[0;32m      6\u001b[0m     \u001b[1;32mfor\u001b[0m \u001b[0myear\u001b[0m \u001b[1;32min\u001b[0m \u001b[0myears_list\u001b[0m\u001b[1;33m:\u001b[0m\u001b[1;33m\u001b[0m\u001b[1;33m\u001b[0m\u001b[0m\n\u001b[0;32m      7\u001b[0m         \u001b[0mfile_link\u001b[0m \u001b[1;33m=\u001b[0m \u001b[0mlink\u001b[0m \u001b[1;33m+\u001b[0m \u001b[1;34m'yob'\u001b[0m \u001b[1;33m+\u001b[0m \u001b[0mstr\u001b[0m\u001b[1;33m(\u001b[0m\u001b[0myear\u001b[0m\u001b[1;33m)\u001b[0m \u001b[1;33m+\u001b[0m \u001b[1;34m'.txt'\u001b[0m\u001b[1;33m\u001b[0m\u001b[1;33m\u001b[0m\u001b[0m\n\u001b[1;32m----> 8\u001b[1;33m         \u001b[1;32mwith\u001b[0m \u001b[0mopen\u001b[0m\u001b[1;33m(\u001b[0m\u001b[0mfile_link\u001b[0m\u001b[1;33m,\u001b[0m \u001b[0mencoding\u001b[0m\u001b[1;33m=\u001b[0m\u001b[1;34m\"UTF-8\"\u001b[0m\u001b[1;33m)\u001b[0m \u001b[1;32mas\u001b[0m \u001b[0mf\u001b[0m\u001b[1;33m:\u001b[0m\u001b[1;33m\u001b[0m\u001b[1;33m\u001b[0m\u001b[0m\n\u001b[0m\u001b[0;32m      9\u001b[0m             \u001b[1;32mfor\u001b[0m \u001b[0mname\u001b[0m \u001b[1;32min\u001b[0m \u001b[0mf\u001b[0m\u001b[1;33m:\u001b[0m\u001b[1;33m\u001b[0m\u001b[1;33m\u001b[0m\u001b[0m\n\u001b[0;32m     10\u001b[0m                 \u001b[0mname\u001b[0m \u001b[1;33m=\u001b[0m \u001b[0mname\u001b[0m\u001b[1;33m.\u001b[0m\u001b[0mstrip\u001b[0m\u001b[1;33m(\u001b[0m\u001b[1;33m)\u001b[0m\u001b[1;33m.\u001b[0m\u001b[0msplit\u001b[0m\u001b[1;33m(\u001b[0m\u001b[1;34m','\u001b[0m\u001b[1;33m)\u001b[0m\u001b[1;33m\u001b[0m\u001b[1;33m\u001b[0m\u001b[0m\n",
      "\u001b[1;31mFileNotFoundError\u001b[0m: [Errno 2] No such file or directory: 'years\\\\yob1900.txt'"
     ],
     "output_type": "error"
    }
   ],
   "source": [
    "import pandas as pd\n",
    "\n",
    "# задание 1\n",
    "def count_top3(years_list, link):\n",
    "    names_DF = pd.DataFrame({'name': [], 'quantity': []})\n",
    "    for year in years_list:\n",
    "        file_link = link + 'yob' + str(year) + '.txt' \n",
    "        with open(file_link, encoding=\"UTF-8\") as f:\n",
    "            for name in f:\n",
    "                name = name.strip().split(',')\n",
    "                names_DF = pd.concat([names_DF, pd.DataFrame({'name':[name[0]],\n",
    "                                                              'quantity':[name[2]]})])\n",
    "    top_name_list = [['', 0], ['', 0], ['', 0]]\n",
    "    for quantity, name in zip(names_DF['quantity'], names_DF['name']):\n",
    "        if int(quantity) > top_name_list[0][1]:\n",
    "            top_name_list[0][0] = name\n",
    "            top_name_list[0][1] = int(quantity)\n",
    "        elif int(quantity) > top_name_list[1][1]:\n",
    "            top_name_list[1][0] = name\n",
    "            top_name_list[1][1] = int(quantity)\n",
    "        elif int(quantity) > top_name_list[2][1]:\n",
    "            top_name_list[2][0] = name\n",
    "            top_name_list[2][1] = int(quantity)\n",
    "\n",
    "    top_name = pd.DataFrame({'name': [], 'quantity':[]})\n",
    "    for name in top_name_list:\n",
    "        name = pd.DataFrame({'name': [name[0]], 'quantity':[name[1]]})\n",
    "        top_name = pd.concat([top_name, name])\n",
    "    print(top_name)\n",
    "\n",
    "# задание 2\n",
    "def count_dynamics(years_list, link):\n",
    "    years_dataFrame_list = pd.DataFrame({'years': [], 'M':[], \"F\":[]})\n",
    "    for year in years_list:\n",
    "        file_link = link + 'yob' + str(year) + '.txt'\n",
    "        gender_dict = {'years':[year], 'M': [0], 'F': [0]}\n",
    "        with open(file_link, encoding=\"UTF-8\") as f:\n",
    "            for name in f:\n",
    "                name = name.strip().split(',')\n",
    "                if name[1] == 'M':\n",
    "                    gender_dict['M'][0] += int(name[2])\n",
    "                elif name[1] == 'F':\n",
    "                    gender_dict['F'][0] += int(name[2])\n",
    "        years_dataFrame_list = pd.concat([years_dataFrame_list, pd.DataFrame(gender_dict)])\n",
    "    print(years_dataFrame_list)\n",
    "\n",
    "if __name__ == '__main__':\n",
    "    link = 'years\\\\'  # эта ссылка, которая у вас может отличаться\n",
    "    count_top3([1900], link)\n",
    "    count_dynamics([1903, 1950, 2000], link)\n",
    "\n",
    "\n",
    "\n"
   ]
  },
  {
   "cell_type": "code",
   "execution_count": 24,
   "metadata": {},
   "outputs": [],
   "source": []
  }
 ],
 "metadata": {
  "kernelspec": {
   "display_name": "Python 2",
   "language": "python",
   "name": "python2"
  },
  "language_info": {
   "codemirror_mode": {
    "name": "ipython",
    "version": 2
   },
   "file_extension": ".py",
   "mimetype": "text/x-python",
   "name": "python",
   "nbconvert_exporter": "python",
   "pygments_lexer": "ipython2",
   "version": "2.7.6"
  }
 },
 "nbformat": 4,
 "nbformat_minor": 0
}
